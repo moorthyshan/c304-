{
 "cells": [
  {
   "cell_type": "code",
   "execution_count": 5,
   "id": "f63ae46f",
   "metadata": {},
   "outputs": [],
   "source": [
    "def test(a,b,c):\n",
    "    d=a+b+c\n",
    "    print(d)"
   ]
  },
  {
   "cell_type": "code",
   "execution_count": 8,
   "id": "6c87ca97",
   "metadata": {},
   "outputs": [
    {
     "name": "stdout",
     "output_type": "stream",
     "text": [
      "9\n"
     ]
    }
   ],
   "source": [
    "test(1,5,3)"
   ]
  },
  {
   "cell_type": "code",
   "execution_count": 9,
   "id": "f40bf63e",
   "metadata": {},
   "outputs": [
    {
     "name": "stdout",
     "output_type": "stream",
     "text": [
      "4000\n"
     ]
    }
   ],
   "source": [
    "a=10\n",
    "b=20\n",
    "c=20\n",
    "d=a*b*c\n",
    "print(d)"
   ]
  },
  {
   "cell_type": "code",
   "execution_count": 12,
   "id": "dffe9d64",
   "metadata": {},
   "outputs": [],
   "source": [
    "def test(a,b,c):\n",
    "    d=a*b*c\n",
    "    print(d)"
   ]
  },
  {
   "cell_type": "code",
   "execution_count": 15,
   "id": "b1e2f8e7",
   "metadata": {},
   "outputs": [
    {
     "name": "stdout",
     "output_type": "stream",
     "text": [
      "8\n"
     ]
    }
   ],
   "source": [
    "test(1,2,4)"
   ]
  },
  {
   "cell_type": "code",
   "execution_count": 16,
   "id": "01e7ab61",
   "metadata": {},
   "outputs": [],
   "source": [
    "def test(a,b,c):\n",
    "    print(\"value of a is:\",a)\n",
    "    print(\"value of b is:\",b)\n",
    "    print(\"value of c is :\",c)\n",
    "    "
   ]
  },
  {
   "cell_type": "code",
   "execution_count": 17,
   "id": "1b9ad5dc",
   "metadata": {},
   "outputs": [
    {
     "name": "stdout",
     "output_type": "stream",
     "text": [
      "value of a is: 1\n",
      "value of b is: 2\n",
      "value of c is : 3\n"
     ]
    }
   ],
   "source": [
    "test(1,2,3)"
   ]
  },
  {
   "cell_type": "code",
   "execution_count": 18,
   "id": "c83e4d2d",
   "metadata": {},
   "outputs": [],
   "source": [
    "def test(a,b,c=1):\n",
    "    print(\"value of a is:\",a)\n",
    "    print(\"value of b is:\",b)\n",
    "    print(\"value of c is :\",c)\n",
    "    "
   ]
  },
  {
   "cell_type": "code",
   "execution_count": 19,
   "id": "2951b566",
   "metadata": {},
   "outputs": [
    {
     "name": "stdout",
     "output_type": "stream",
     "text": [
      "value of a is: 1\n",
      "value of b is: 2\n",
      "value of c is : 1\n"
     ]
    }
   ],
   "source": [
    "test(1,2)"
   ]
  },
  {
   "cell_type": "code",
   "execution_count": 20,
   "id": "a4b652b9",
   "metadata": {},
   "outputs": [
    {
     "name": "stdout",
     "output_type": "stream",
     "text": [
      "value of a is: 1\n",
      "value of b is: 2\n",
      "value of c is : 4\n"
     ]
    }
   ],
   "source": [
    "test(1,2,4)"
   ]
  },
  {
   "cell_type": "code",
   "execution_count": 21,
   "id": "1875ddf2",
   "metadata": {},
   "outputs": [
    {
     "name": "stdout",
     "output_type": "stream",
     "text": [
      "value of a is: 4\n",
      "value of b is: 2\n",
      "value of c is : 1\n"
     ]
    }
   ],
   "source": [
    "test(a=4,b=2,c=1)"
   ]
  },
  {
   "cell_type": "code",
   "execution_count": 22,
   "id": "839bf15d",
   "metadata": {},
   "outputs": [
    {
     "name": "stdout",
     "output_type": "stream",
     "text": [
      "5\n"
     ]
    }
   ],
   "source": [
    "def mul(a,b):\n",
    "    c=a*b\n",
    "    print(c)\n",
    "mul(1,5)"
   ]
  },
  {
   "cell_type": "code",
   "execution_count": 38,
   "id": "adf2a8b4",
   "metadata": {},
   "outputs": [
    {
     "name": "stdout",
     "output_type": "stream",
     "text": [
      "the first name is: abi\n",
      "the secound name is: moorthy\n",
      "the third name is : babu\n",
      "abi moorthy babu\n"
     ]
    }
   ],
   "source": [
    "def test(a,b,c):\n",
    "    print(\"the first name is:\",a)\n",
    "    print(\"the secound name is:\",b)\n",
    "    print(\"the third name is :\",c)\n",
    "    print(a,b,c)\n",
    "test(\"abi\",\"moorthy\",\"babu\")"
   ]
  },
  {
   "cell_type": "code",
   "execution_count": 39,
   "id": "2563a6bb",
   "metadata": {},
   "outputs": [],
   "source": [
    "def test(a,b,c):\n",
    "    print(\"the first name is:\",a)\n",
    "    print(\"the secound name is:\",b)\n",
    "    print(\"the third name is :\",c)\n",
    "    print(\"the full name is:\",a+\"\"+ b+\"\"+ c+\"\")"
   ]
  },
  {
   "cell_type": "code",
   "execution_count": 40,
   "id": "16b931b7",
   "metadata": {},
   "outputs": [
    {
     "name": "stdout",
     "output_type": "stream",
     "text": [
      "the first name is: moorthy\n",
      "the secound name is: shan\n",
      "the third name is : 2\n"
     ]
    },
    {
     "ename": "TypeError",
     "evalue": "can only concatenate str (not \"int\") to str",
     "output_type": "error",
     "traceback": [
      "\u001b[1;31m---------------------------------------------------------------------------\u001b[0m",
      "\u001b[1;31mTypeError\u001b[0m                                 Traceback (most recent call last)",
      "Input \u001b[1;32mIn [40]\u001b[0m, in \u001b[0;36m<cell line: 1>\u001b[1;34m()\u001b[0m\n\u001b[1;32m----> 1\u001b[0m \u001b[43mtest\u001b[49m\u001b[43m(\u001b[49m\u001b[38;5;124;43m\"\u001b[39;49m\u001b[38;5;124;43mmoorthy\u001b[39;49m\u001b[38;5;124;43m\"\u001b[39;49m\u001b[43m,\u001b[49m\u001b[38;5;124;43m\"\u001b[39;49m\u001b[38;5;124;43mshan\u001b[39;49m\u001b[38;5;124;43m\"\u001b[39;49m\u001b[43m,\u001b[49m\u001b[38;5;241;43m2\u001b[39;49m\u001b[43m)\u001b[49m\n",
      "Input \u001b[1;32mIn [39]\u001b[0m, in \u001b[0;36mtest\u001b[1;34m(a, b, c)\u001b[0m\n\u001b[0;32m      3\u001b[0m \u001b[38;5;28mprint\u001b[39m(\u001b[38;5;124m\"\u001b[39m\u001b[38;5;124mthe secound name is:\u001b[39m\u001b[38;5;124m\"\u001b[39m,b)\n\u001b[0;32m      4\u001b[0m \u001b[38;5;28mprint\u001b[39m(\u001b[38;5;124m\"\u001b[39m\u001b[38;5;124mthe third name is :\u001b[39m\u001b[38;5;124m\"\u001b[39m,c)\n\u001b[1;32m----> 5\u001b[0m \u001b[38;5;28mprint\u001b[39m(\u001b[38;5;124m\"\u001b[39m\u001b[38;5;124mthe full name is:\u001b[39m\u001b[38;5;124m\"\u001b[39m,\u001b[43ma\u001b[49m\u001b[38;5;241;43m+\u001b[39;49m\u001b[38;5;124;43m\"\u001b[39;49m\u001b[38;5;124;43m\"\u001b[39;49m\u001b[38;5;241;43m+\u001b[39;49m\u001b[43m \u001b[49m\u001b[43mb\u001b[49m\u001b[38;5;241;43m+\u001b[39;49m\u001b[38;5;124;43m\"\u001b[39;49m\u001b[38;5;124;43m\"\u001b[39;49m\u001b[38;5;241;43m+\u001b[39;49m\u001b[43m \u001b[49m\u001b[43mc\u001b[49m\u001b[38;5;241m+\u001b[39m\u001b[38;5;124m\"\u001b[39m\u001b[38;5;124m\"\u001b[39m)\n",
      "\u001b[1;31mTypeError\u001b[0m: can only concatenate str (not \"int\") to str"
     ]
    }
   ],
   "source": [
    "test(\"moorthy\",\"shan\",2)"
   ]
  },
  {
   "cell_type": "code",
   "execution_count": 41,
   "id": "4c92a7c6",
   "metadata": {},
   "outputs": [],
   "source": [
    "def test(a,b,c):\n",
    "    print(\"the first name is:\",a)\n",
    "    print(\"the secound name is:\",b)\n",
    "    print(\"the third name is :\",c)\n",
    "    print(a,b,c)"
   ]
  },
  {
   "cell_type": "code",
   "execution_count": 42,
   "id": "ac17bea9",
   "metadata": {},
   "outputs": [
    {
     "ename": "SyntaxError",
     "evalue": "positional argument follows keyword argument (3462794693.py, line 1)",
     "output_type": "error",
     "traceback": [
      "\u001b[1;36m  Input \u001b[1;32mIn [42]\u001b[1;36m\u001b[0m\n\u001b[1;33m    test(a=\"moorthy\",b=\"shan\",\"siva\")\u001b[0m\n\u001b[1;37m                                    ^\u001b[0m\n\u001b[1;31mSyntaxError\u001b[0m\u001b[1;31m:\u001b[0m positional argument follows keyword argument\n"
     ]
    }
   ],
   "source": [
    "test(a=\"moorthy\",b=\"shan\",\"siva\")"
   ]
  },
  {
   "cell_type": "code",
   "execution_count": 43,
   "id": "05096b05",
   "metadata": {},
   "outputs": [
    {
     "name": "stdout",
     "output_type": "stream",
     "text": [
      "the first name is: siva\n",
      "the secound name is: shan\n",
      "the third name is : moorthy\n",
      "siva shan moorthy\n"
     ]
    }
   ],
   "source": [
    "test(a=\"siva\",b=\"shan\",c=\"moorthy\")"
   ]
  },
  {
   "cell_type": "code",
   "execution_count": 52,
   "id": "89aed230",
   "metadata": {},
   "outputs": [],
   "source": [
    "def add(a,b):\n",
    "    c=a+b\n",
    "    #print(c)\n",
    "    return(c)"
   ]
  },
  {
   "cell_type": "code",
   "execution_count": 53,
   "id": "7350e0be",
   "metadata": {},
   "outputs": [],
   "source": [
    "a=add(5,7)"
   ]
  },
  {
   "cell_type": "code",
   "execution_count": 54,
   "id": "f762fb19",
   "metadata": {},
   "outputs": [
    {
     "name": "stdout",
     "output_type": "stream",
     "text": [
      "12\n"
     ]
    }
   ],
   "source": [
    "print(a)"
   ]
  },
  {
   "cell_type": "code",
   "execution_count": 55,
   "id": "41c7fb83",
   "metadata": {},
   "outputs": [
    {
     "name": "stdout",
     "output_type": "stream",
     "text": [
      "16\n"
     ]
    }
   ],
   "source": [
    "b=add(a,4)\n",
    "print(b)"
   ]
  },
  {
   "cell_type": "code",
   "execution_count": 1,
   "id": "d7b0b706",
   "metadata": {},
   "outputs": [
    {
     "name": "stdout",
     "output_type": "stream",
     "text": [
      "two\n"
     ]
    }
   ],
   "source": [
    "a=\"one\"\n",
    "\n",
    "def test ():\n",
    "    a=\"two\"\n",
    "    #print(a)\n",
    "    return(a)\n",
    "a=test()\n",
    "print(a)"
   ]
  },
  {
   "cell_type": "code",
   "execution_count": 3,
   "id": "cddeb09e",
   "metadata": {},
   "outputs": [
    {
     "name": "stdout",
     "output_type": "stream",
     "text": [
      "two\n"
     ]
    }
   ],
   "source": [
    "a=\"one\"\n",
    "\n",
    "def test ():\n",
    "    global a\n",
    "    a=\"two\"\n",
    "    #print(a)\n",
    "test()\n",
    "print(a)"
   ]
  },
  {
   "cell_type": "code",
   "execution_count": 15,
   "id": "51191381",
   "metadata": {},
   "outputs": [
    {
     "name": "stdout",
     "output_type": "stream",
     "text": [
      "enter a number:100\n",
      "enter a type:even\n",
      "yes\n"
     ]
    }
   ],
   "source": [
    "a=input('enter a number:')\n",
    "b=input('enter a type:')\n",
    "a=int(a)\n",
    "if b=='even':\n",
    "    print(\"yes\")\n",
    "else:\n",
    "    print(\"wrong\")\n",
    "\n",
    "      "
   ]
  },
  {
   "cell_type": "code",
   "execution_count": 24,
   "id": "d0e85066",
   "metadata": {},
   "outputs": [
    {
     "name": "stdout",
     "output_type": "stream",
     "text": [
      "[1, 3, 5, 7, 9]\n"
     ]
    }
   ],
   "source": [
    "l=[]\n",
    "for i in range (10):\n",
    "    if i%2!=0:\n",
    "        l.append(i)\n",
    "print(l)"
   ]
  },
  {
   "cell_type": "code",
   "execution_count": 1,
   "id": "c01e1864",
   "metadata": {},
   "outputs": [],
   "source": [
    "l=[]\n",
    "def test(a,b):\n",
    "    for i in range(a):\n",
    "        if b==\"even\":\n",
    "            \n",
    "             if i%2==0:\n",
    "                l.append(i)\n",
    "        else:\n",
    "            if i%2!=0:\n",
    "                l.append(i)\n",
    "                \n",
    "    return l"
   ]
  },
  {
   "cell_type": "code",
   "execution_count": 4,
   "id": "caecb223",
   "metadata": {},
   "outputs": [],
   "source": [
    "a=test(100,'odd')\n"
   ]
  },
  {
   "cell_type": "code",
   "execution_count": 3,
   "id": "c033290e",
   "metadata": {},
   "outputs": [
    {
     "name": "stdout",
     "output_type": "stream",
     "text": [
      "[1, 3, 5, 7, 9, 11, 13, 15, 17, 19, 21, 23, 25, 27, 29, 31, 33, 35, 37, 39, 41, 43, 45, 47, 49, 51, 53, 55, 57, 59, 61, 63, 65, 67, 69, 71, 73, 75, 77, 79, 81, 83, 85, 87, 89, 91, 93, 95, 97, 99, 101, 103, 105, 107, 109, 111, 113, 115, 117, 119, 121, 123, 125, 127, 129, 131, 133, 135, 137, 139, 141, 143, 145, 147, 149, 151, 153, 155, 157, 159, 161, 163, 165, 167, 169, 171, 173, 175, 177, 179, 181, 183, 185, 187, 189, 191, 193, 195, 197, 199, 201, 203, 205, 207, 209, 211, 213, 215, 217, 219, 221, 223, 225, 227, 229, 231, 233, 235, 237, 239, 241, 243, 245, 247, 249, 251, 253, 255, 257, 259, 261, 263, 265, 267, 269, 271, 273, 275, 277, 279, 281, 283, 285, 287, 289, 291, 293, 295, 297, 299, 301, 303, 305, 307, 309, 311, 313, 315, 317, 319, 321, 323, 325, 327, 329, 331, 333, 335, 337, 339, 341, 343, 345, 347, 349, 351, 353, 355, 357, 359, 361, 363, 365, 367, 369, 371, 373, 375, 377, 379, 381, 383, 385, 387, 389, 391, 393, 395, 397, 399, 401, 403, 405, 407, 409, 411, 413, 415, 417, 419, 421, 423, 425, 427, 429, 431, 433, 435, 437, 439, 441, 443, 445, 447, 449, 451, 453, 455, 457, 459, 461, 463, 465, 467, 469, 471, 473, 475, 477, 479, 481, 483, 485, 487, 489, 491, 493, 495, 497, 499, 501, 503, 505, 507, 509, 511, 513, 515, 517, 519, 521, 523, 525, 527, 529, 531, 533, 535, 537, 539, 541, 543, 545, 547, 549, 551, 553, 555, 557, 559, 561, 563, 565, 567, 569, 571, 573, 575, 577, 579, 581, 583, 585, 587, 589, 591, 593, 595, 597, 599, 601, 603, 605, 607, 609, 611, 613, 615, 617, 619, 621, 623, 625, 627, 629, 631, 633, 635, 637, 639, 641, 643, 645, 647, 649, 651, 653, 655, 657, 659, 661, 663, 665, 667, 669, 671, 673, 675, 677, 679, 681, 683, 685, 687, 689, 691, 693, 695, 697, 699, 701, 703, 705, 707, 709, 711, 713, 715, 717, 719, 721, 723, 725, 727, 729, 731, 733, 735, 737, 739, 741, 743, 745, 747, 749, 751, 753, 755, 757, 759, 761, 763, 765, 767, 769, 771, 773, 775, 777, 779, 781, 783, 785, 787, 789, 791, 793, 795, 797, 799, 801, 803, 805, 807, 809, 811, 813, 815, 817, 819, 821, 823, 825, 827, 829, 831, 833, 835, 837, 839, 841, 843, 845, 847, 849, 851, 853, 855, 857, 859, 861, 863, 865, 867, 869, 871, 873, 875, 877, 879, 881, 883, 885, 887, 889, 891, 893, 895, 897, 899, 901, 903, 905, 907, 909, 911, 913, 915, 917, 919, 921, 923, 925, 927, 929, 931, 933, 935, 937, 939, 941, 943, 945, 947, 949, 951, 953, 955, 957, 959, 961, 963, 965, 967, 969, 971, 973, 975, 977, 979, 981, 983, 985, 987, 989, 991, 993, 995, 997, 999]\n"
     ]
    }
   ],
   "source": [
    "print(a)"
   ]
  },
  {
   "cell_type": "code",
   "execution_count": 4,
   "id": "3407fba5",
   "metadata": {},
   "outputs": [],
   "source": [
    "#inlind function using lambda\n",
    "a= lambda x,y : x*y\n"
   ]
  },
  {
   "cell_type": "code",
   "execution_count": 5,
   "id": "6e03e044",
   "metadata": {},
   "outputs": [
    {
     "data": {
      "text/plain": [
       "30"
      ]
     },
     "execution_count": 5,
     "metadata": {},
     "output_type": "execute_result"
    }
   ],
   "source": [
    "a(5,6)"
   ]
  },
  {
   "cell_type": "code",
   "execution_count": null,
   "id": "c9822ced",
   "metadata": {},
   "outputs": [],
   "source": [
    "#filter , map, reduce "
   ]
  },
  {
   "cell_type": "code",
   "execution_count": 16,
   "id": "470bfb00",
   "metadata": {},
   "outputs": [],
   "source": [
    "def even(n):\n",
    "    if n%2==0:\n",
    "        return True\n",
    "    else:\n",
    "        return False"
   ]
  },
  {
   "cell_type": "code",
   "execution_count": 17,
   "id": "cf447816",
   "metadata": {},
   "outputs": [],
   "source": [
    "a=[1,2,3,4,5,6,7,8,9,10]"
   ]
  },
  {
   "cell_type": "code",
   "execution_count": 18,
   "id": "5fcb4b3a",
   "metadata": {},
   "outputs": [
    {
     "name": "stdout",
     "output_type": "stream",
     "text": [
      "[2, 4, 6, 8, 10]\n"
     ]
    }
   ],
   "source": [
    "b= (filter(even, a))\n",
    "print(list(b))"
   ]
  },
  {
   "cell_type": "code",
   "execution_count": 19,
   "id": "16a1704a",
   "metadata": {},
   "outputs": [
    {
     "name": "stdout",
     "output_type": "stream",
     "text": [
      "[False, True, False, True, False, True, False, True, False, True]\n"
     ]
    }
   ],
   "source": [
    "b=map(even,a)\n",
    "print(list(b))"
   ]
  },
  {
   "cell_type": "code",
   "execution_count": 20,
   "id": "502e242c",
   "metadata": {},
   "outputs": [
    {
     "name": "stdout",
     "output_type": "stream",
     "text": [
      "55\n"
     ]
    }
   ],
   "source": [
    "from functools import reduce\n",
    "\n",
    "def sum(m,n):\n",
    "    return m+n\n",
    "a= [1,2,3,4,5,6,7,8,9,10]\n",
    "print(reduce(sum,a))"
   ]
  },
  {
   "cell_type": "code",
   "execution_count": 21,
   "id": "acff421d",
   "metadata": {},
   "outputs": [],
   "source": [
    "a= filter (lambda x:x %2 ==0 , range(10))"
   ]
  },
  {
   "cell_type": "code",
   "execution_count": 30,
   "id": "2adcbdbf",
   "metadata": {},
   "outputs": [
    {
     "name": "stdout",
     "output_type": "stream",
     "text": [
      "()\n"
     ]
    }
   ],
   "source": [
    "print(tuple(a))"
   ]
  },
  {
   "cell_type": "code",
   "execution_count": 29,
   "id": "2fac525f",
   "metadata": {},
   "outputs": [
    {
     "name": "stdout",
     "output_type": "stream",
     "text": [
      "(True, False, True, False, True, False, True, False, True, False)\n"
     ]
    }
   ],
   "source": [
    "a=map(lambda x:x %2==0, range(10))\n",
    "print(tuple(a))"
   ]
  },
  {
   "cell_type": "code",
   "execution_count": null,
   "id": "70c58447",
   "metadata": {},
   "outputs": [],
   "source": []
  },
  {
   "cell_type": "code",
   "execution_count": null,
   "id": "66231b91",
   "metadata": {},
   "outputs": [],
   "source": []
  }
 ],
 "metadata": {
  "kernelspec": {
   "display_name": "Python 3 (ipykernel)",
   "language": "python",
   "name": "python3"
  },
  "language_info": {
   "codemirror_mode": {
    "name": "ipython",
    "version": 3
   },
   "file_extension": ".py",
   "mimetype": "text/x-python",
   "name": "python",
   "nbconvert_exporter": "python",
   "pygments_lexer": "ipython3",
   "version": "3.9.12"
  }
 },
 "nbformat": 4,
 "nbformat_minor": 5
}
